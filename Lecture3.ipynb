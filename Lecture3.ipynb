{
 "cells": [
  {
   "cell_type": "markdown",
   "metadata": {},
   "source": [
    "## Mapping\n",
    "* Mapping or tranformation called **windows mappings**"
   ]
  },
  {
   "cell_type": "markdown",
   "metadata": {},
   "source": [
    "A = V.r - V.l / W.r - W.l"
   ]
  },
  {
   "cell_type": "markdown",
   "metadata": {},
   "source": [
    "C = V.l - A * W.l"
   ]
  },
  {
   "cell_type": "markdown",
   "metadata": {},
   "source": [
    "B = V.t - V.b / W.t - W.b"
   ]
  },
  {
   "cell_type": "markdown",
   "metadata": {},
   "source": [
    "D = V.b - B * W.b"
   ]
  },
  {
   "cell_type": "code",
   "execution_count": 3,
   "metadata": {},
   "outputs": [
    {
     "name": "stdout",
     "output_type": "stream",
     "text": [
      "A=  180.0\n"
     ]
    }
   ],
   "source": [
    "print('A= ', ((400 - 40) / 2))"
   ]
  },
  {
   "cell_type": "code",
   "execution_count": 5,
   "metadata": {},
   "outputs": [
    {
     "name": "stdout",
     "output_type": "stream",
     "text": [
      "C=  40\n"
     ]
    }
   ],
   "source": [
    "print('C= ', 40 - 180 * 0)"
   ]
  },
  {
   "cell_type": "markdown",
   "metadata": {},
   "source": [
    "B = 240, D = 60"
   ]
  },
  {
   "cell_type": "markdown",
   "metadata": {},
   "source": [
    "## Doing it in OpenGL\n",
    "For 2D drawing, the world windows is set by the function **glutOrth2D()** and the viewport is set by the function **glViewPort()**\n",
    "\n",
    "3D windows glOrtho(x1, x2, y1, y2, z1, z2);"
   ]
  },
  {
   "cell_type": "markdown",
   "metadata": {},
   "source": [
    "### *gluOrtho2D(left, right, bottom, top):*\n",
    "### *glViewport(x, y, width, height);*"
   ]
  },
  {
   "cell_type": "markdown",
   "metadata": {},
   "source": [
    "## glutReshapFunc(resize);\n",
    "void resize(GLsizei w, GLsizei h) \n",
    "{\n",
    "    if (h == 0) h = 1;\n",
    "    glViewPort(0,0w,h);\n",
    "    glMatrixModel(GL_PROJECTION);\n",
    "    glLoadIdentiry();\n",
    "    if(w <= h){\n",
    "        minHeight = 250.0f\\*h / w;\n",
    "        winWidth = 250.0f;\n",
    "    }\n",
    "    glOrtho(0.0f, winWidth, o.0f winHeight, 1.0f, -1.0f);\n",
    "    glMatrixModel(GL_MODELVIEW);\n",
    "    glLoadIdentiry();       \n",
    "}"
   ]
  },
  {
   "cell_type": "markdown",
   "metadata": {},
   "source": [
    "### Homework 2\n",
    "* Do paint\n",
    "Use glutMouseFunc()\n",
    "\n",
    "window, viewport coordinate is differrent\n",
    "\n",
    "glPointSize(int) - to change point size"
   ]
  },
  {
   "cell_type": "markdown",
   "metadata": {},
   "source": [
    "### Homework 3\n",
    "* Draw that picture with 6 untsug "
   ]
  }
 ],
 "metadata": {
  "kernelspec": {
   "display_name": "Python 3",
   "language": "python",
   "name": "python3"
  },
  "language_info": {
   "codemirror_mode": {
    "name": "ipython",
    "version": 3
   },
   "file_extension": ".py",
   "mimetype": "text/x-python",
   "name": "python",
   "nbconvert_exporter": "python",
   "pygments_lexer": "ipython3",
   "version": "3.6.5"
  }
 },
 "nbformat": 4,
 "nbformat_minor": 2
}
